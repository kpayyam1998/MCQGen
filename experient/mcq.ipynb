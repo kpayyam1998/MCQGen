{
 "cells": [
  {
   "cell_type": "code",
   "execution_count": null,
   "metadata": {},
   "outputs": [
    {
     "ename": "",
     "evalue": "",
     "output_type": "error",
     "traceback": [
      "\u001b[1;31mRunning cells with 'e:\\Python\\New folder\\AIprojects\\MCQGen\\env\\python.exe' requires the ipykernel package.\n",
      "\u001b[1;31mRun the following command to install 'ipykernel' into the Python environment. \n",
      "\u001b[1;31mCommand: 'conda install -p e:\\Python\\New folder\\AIprojects\\MCQGen\\env ipykernel --update-deps --force-reinstall'"
     ]
    }
   ],
   "source": [
    "import os\n",
    "import json\n",
    "import pandas as pd\n",
    "import traceback\n",
    "#conda install ipykernel -y this code to resolve below error then i have cloed then i reponed it was worked to cnt ipykernel"
   ]
  },
  {
   "cell_type": "code",
   "execution_count": 34,
   "metadata": {},
   "outputs": [],
   "source": [
    "import os\n",
    "import json\n",
    "import pandas as pd\n",
    "import traceback"
   ]
  },
  {
   "cell_type": "code",
   "execution_count": 35,
   "metadata": {},
   "outputs": [
    {
     "data": {
      "text/plain": [
       "True"
      ]
     },
     "execution_count": 35,
     "metadata": {},
     "output_type": "execute_result"
    }
   ],
   "source": [
    "from dotenv import load_dotenv\n",
    "load_dotenv() # it takes values  .env from our local folder whatever the values key"
   ]
  },
  {
   "cell_type": "code",
   "execution_count": 36,
   "metadata": {},
   "outputs": [],
   "source": [
    "# inside folder structure i m gng to create .env file where i kept my api key\n",
    "KEY=os.getenv(\"OPENAI_API_KEY\") # this line will pick key in our folder structure"
   ]
  },
  {
   "cell_type": "code",
   "execution_count": 37,
   "metadata": {},
   "outputs": [],
   "source": [
    "#print(KEY) # here we got our key # if get any error load the env package\n",
    "# When i run this code it was showin my key so i hidden it and recommit"
   ]
  },
  {
   "cell_type": "code",
   "execution_count": 38,
   "metadata": {},
   "outputs": [],
   "source": [
    "from langchain.chat_models import ChatOpenAI # in class we use langchain.llm and import openAI this lib also do same things\n",
    "\n",
    "llm=ChatOpenAI(openai_api_key=KEY,model_name=\"gpt-3.5-turbo-0613\",temperature=0.5)  #gpt-3.5-turbo this wasnt worked for me i changed model then fine\n",
    "# we are going to paste entire key instead do some"
   ]
  },
  {
   "cell_type": "code",
   "execution_count": 39,
   "metadata": {},
   "outputs": [],
   "source": [
    "# we gng to implement whtever we learn from past\n",
    "#lib \n",
    "\n",
    "from langchain.llms import OpenAI\n",
    "from langchain.prompts import PromptTemplate\n",
    "from langchain.chains import LLMChain\n",
    "from langchain.chains import SequentialChain\n",
    "from langchain.callbacks import get_openai_callback\n",
    "import PyPDF2"
   ]
  },
  {
   "cell_type": "code",
   "execution_count": 40,
   "metadata": {},
   "outputs": [],
   "source": [
    "RESPONSE_JSON={\n",
    "    \"1\":{\n",
    "        \"mcq\":\"multiple choice question\",\n",
    "        \"options\":{\n",
    "            \"a\":\"choice here\",\n",
    "            \"b\":\"choice here\",\n",
    "            \"c\":\"choice here\",\n",
    "            \"d\":\"choice here\"\n",
    "        },\n",
    "        \"correct\":\"correct answer\"\n",
    "    },\n",
    "    \"2\":{\n",
    "        \"mcq\":\"multiple choice question\",\n",
    "        \"options\":{\n",
    "            \"a\":\"choice here\",\n",
    "            \"b\":\"choice here\",\n",
    "            \"c\":\"choice here\",\n",
    "            \"d\":\"choice here\"\n",
    "        },\n",
    "        \"correct\":\"correct answer\"\n",
    "    },\n",
    "    \"3\":{\n",
    "        \"mcq\":\"multiple choice question\",\n",
    "        \"options\":{\n",
    "            \"a\":\"choice here\",\n",
    "            \"b\":\"choice here\",\n",
    "            \"c\":\"choice here\",\n",
    "            \"d\":\"choice here\"\n",
    "        },\n",
    "        \"correct\":\"correct answer\"\n",
    "    }\n",
    "\n",
    "}"
   ]
  },
  {
   "cell_type": "code",
   "execution_count": 41,
   "metadata": {},
   "outputs": [],
   "source": [
    "# we going to give template and question\n",
    "TEMPLATE='''\n",
    "Text:{text}\n",
    "You are an expert MCQ maker.Give then above text ,its is your job to create quiz of\n",
    "{number} MCQ questions for a {subject} student in {tone} tone.\n",
    "Make sure questions are not repeated and check all the questions to be confireming the text as well.\n",
    "make sure to format your response like RESPONSE_JSON below and use it as a guide.\\\n",
    "Ensure to make {number} MCQs\n",
    "###RESPONSE_JSON\n",
    "{response_json}\n",
    "\n",
    "'''\n",
    "\n",
    "quiz_generation_prompt=PromptTemplate(\n",
    "    input_variables=[\"text\",\"number\",\"subject\",\"tone\",\"response_json\"],\n",
    "    template=TEMPLATE\n",
    ")"
   ]
  },
  {
   "cell_type": "code",
   "execution_count": 42,
   "metadata": {},
   "outputs": [],
   "source": [
    "# use LLM chain to connect several components\n",
    "quiz_chain=LLMChain(llm=llm,prompt=quiz_generation_prompt,output_key=\"quiz\",verbose=True)\n"
   ]
  },
  {
   "cell_type": "code",
   "execution_count": 43,
   "metadata": {},
   "outputs": [],
   "source": [
    "# Reviewing template\n",
    "TEMPLATE2=\"\"\"\n",
    "You are an expert english grammarian and writer. Given a Multiple Choice Quiz for {subject} students.\\\n",
    "\n",
    "You need to evaluate the complexity of the question and give a complete analysis of the quiz. \n",
    "Only use at max 50 words for if the quiz is not at per with the cognitive and analytical abilities of the students,\\\n",
    "\n",
    "if the quiz is not at per with cognitive ana analytical abilities for the student,\\\n",
    "\n",
    "update the quiz questions which needs to be changed and change the tone such that it perfectly fits the student abilities\n",
    "\n",
    "Quiz MCQs:\n",
    "\n",
    "{quiz}\n",
    "\n",
    "Check from an expert English Writer of the above quiz\n",
    "\n",
    "\n",
    "\n",
    "\"\"\"\n",
    "\n",
    "review_template=PromptTemplate(input_variables=[\"subject\",\"quize\"],template=TEMPLATE2)"
   ]
  },
  {
   "cell_type": "code",
   "execution_count": 44,
   "metadata": {},
   "outputs": [],
   "source": [
    "review_chain=LLMChain(llm=llm,prompt=review_template,output_key=\"review\",verbose=True)"
   ]
  },
  {
   "cell_type": "code",
   "execution_count": 45,
   "metadata": {},
   "outputs": [],
   "source": [
    "# Create Obj SequentialChain\n",
    "#we are gng to pass all the I/P nd O/P vabls\n",
    "generate_evaluate_chain=SequentialChain(chains=[quiz_chain,review_chain],\n",
    "                input_variables=[\"text\",\"number\",\"subject\",\"tone\",\"response_json\"],\n",
    "                output_variables=[\"quiz\",\"review\"])"
   ]
  },
  {
   "cell_type": "code",
   "execution_count": 62,
   "metadata": {},
   "outputs": [
    {
     "name": "stdout",
     "output_type": "stream",
     "text": [
      "\n",
      "The academic discipline of artificial intelligence was established at a research workshop held at Dartmouth College in 1956 and has experienced several waves of advancement and optimism in the decades since.[20] Since its inception, researchers in the field have raised philosophical and ethical arguments about the nature of the human mind and the consequences of creating artificial beings with human-like intelligence; these issues have previously been explored by myth, fiction and philosophy since antiquity.[21] The concept of automated art dates back at least to the automata of ancient Greek civilization, where inventors such as Daedalus and Hero of Alexandria were described as having designed machines capable of writing text, generating sounds, and playing music.[22][23] The tradition of creative automatons has flourished throughout history, exemplified by Maillardet's automaton created in the early 1800s.[24]\n",
      "\n",
      "Artificial Intelligence is an idea that has been captivating society since the mid-20th century. It began with science fiction familiarizing the world with the concept but the idea wasn't fully seen in the scientific manner until Alan Turing, a polymath, was curious about the feasibility of the concept. Turing's groundbreaking 1950 paper, \"Computing Machinery and Intelligence,\" posed fundamental questions about machine reasoning similar to human intelligence, significantly contributing to the conceptual groundwork of AI. The development of AI was not very rapid at first because of the high costs and the fact that computers were not able to store commands. This changed during the 1956 Dartmouth Summer Research Project on AI where there was an inspiring call for AI research, setting the precedent for two decades of rapid advancements in the field.[25]\n",
      "\n",
      "Since the founding of AI in the 1950s, artists and researchers have used artificial intelligence to create artistic works. By the early 1970s, Harold Cohen was creating and exhibiting generative AI works created by AARON, the computer program Cohen created to generate paintings.[26]\n",
      "\n",
      "Markov chains have long been used to model natural languages since their development by Russian mathematician Andrey Markov in the early 20th century. Markov published his first paper on the topic in 1906,[27][28][29] and analyzed the pattern of vowels and consonants in the novel Eugeny Onegin using Markov chains. Once a Markov chain is learned on a text corpus, it can then be used as a probabilistic text generator.[30][31]\n",
      "\n",
      "The field of machine learning often uses statistical models, including generative models, to model and predict data. Beginning in the late 2000s, the emergence of deep learning drove progress and research in image classification, speech recognition, natural language processing and other tasks. Neural networks in this era were typically trained as discriminative models, due to the difficulty of generative modeling.[32]\n",
      "\n",
      "In 2014, advancements such as the variational autoencoder and generative adversarial network produced the first practical deep neural networks capable of learning generative models, as opposed to discriminative ones, for complex data such as images. These deep generative models were the first to output not only class labels for images but also entire images.\n",
      "\n",
      "In 2017, the Transformer network enabled advancements in generative models compared to older Long-Short Term Memory models,[33] leading to the first generative pre-trained transformer (GPT), known as GPT-1, in 2018.[34] This was followed in 2019 by GPT-2 which demonstrated the ability to generalize unsupervised to many different tasks as a Foundation model.[35]\n",
      "\n",
      "In 2021, the release of DALL-E, a transformer-based pixel generative model, followed by Midjourney and Stable Diffusion marked the emergence of practical high-quality artificial intelligence art from natural language prompts.\n",
      "\n",
      "In March 2023, GPT-4 was released. A team from Microsoft Research argued that \"it could reasonably be viewed as an early (yet still incomplete) version of an artificial general intelligence (AGI) system\".[36] Other scholars have disputed that GPT-4 reaches this threshold, calling generative AI \"still far from reaching the benchmark of ‘general human intelligence’\" as of 2023.[37] In 2023, Meta released an AI model called ImageBind which combines data from text, images, video, thermal data, 3D data, audio, and motion which is expected to allow for more immersive generative AI content.\n"
     ]
    }
   ],
   "source": [
    "#Read data from text file\n",
    "\n",
    "file_path=r\"E:\\Python\\New folder\\AIprojects\\MCQGen\\data.txt\"\n",
    "\n",
    "with open(file_path,'r') as file:\n",
    "    TEXT=file.read()\n",
    "print(TEXT) # I can read my data"
   ]
  },
  {
   "cell_type": "code",
   "execution_count": 47,
   "metadata": {},
   "outputs": [
    {
     "data": {
      "text/plain": [
       "'{\"1\": {\"mcq\": \"multiple choice question\", \"options\": {\"a\": \"choice here\", \"b\": \"choice here\", \"c\": \"choice here\", \"d\": \"choice here\"}, \"correct\": \"correct answer\"}, \"2\": {\"mcq\": \"multiple choice question\", \"options\": {\"a\": \"choice here\", \"b\": \"choice here\", \"c\": \"choice here\", \"d\": \"choice here\"}, \"correct\": \"correct answer\"}, \"3\": {\"mcq\": \"multiple choice question\", \"options\": {\"a\": \"choice here\", \"b\": \"choice here\", \"c\": \"choice here\", \"d\": \"choice here\"}, \"correct\": \"correct answer\"}}'"
      ]
     },
     "execution_count": 47,
     "metadata": {},
     "output_type": "execute_result"
    }
   ],
   "source": [
    "# Importent \n",
    "# Serialize python dictionary into  JSON-FORMATED strin which means our dict result will be come same dict format string\n",
    "json.dumps(RESPONSE_JSON)"
   ]
  },
  {
   "cell_type": "code",
   "execution_count": 63,
   "metadata": {},
   "outputs": [],
   "source": [
    "NUMBER=5\n",
    "SUBJECT=\"Generative AI\",\n",
    "TONE=\"simple\""
   ]
  },
  {
   "cell_type": "code",
   "execution_count": 64,
   "metadata": {},
   "outputs": [
    {
     "name": "stdout",
     "output_type": "stream",
     "text": [
      "\n",
      "\n",
      "\u001b[1m> Entering new LLMChain chain...\u001b[0m\n",
      "Prompt after formatting:\n",
      "\u001b[32;1m\u001b[1;3m\n",
      "Text:\n",
      "The academic discipline of artificial intelligence was established at a research workshop held at Dartmouth College in 1956 and has experienced several waves of advancement and optimism in the decades since.[20] Since its inception, researchers in the field have raised philosophical and ethical arguments about the nature of the human mind and the consequences of creating artificial beings with human-like intelligence; these issues have previously been explored by myth, fiction and philosophy since antiquity.[21] The concept of automated art dates back at least to the automata of ancient Greek civilization, where inventors such as Daedalus and Hero of Alexandria were described as having designed machines capable of writing text, generating sounds, and playing music.[22][23] The tradition of creative automatons has flourished throughout history, exemplified by Maillardet's automaton created in the early 1800s.[24]\n",
      "\n",
      "Artificial Intelligence is an idea that has been captivating society since the mid-20th century. It began with science fiction familiarizing the world with the concept but the idea wasn't fully seen in the scientific manner until Alan Turing, a polymath, was curious about the feasibility of the concept. Turing's groundbreaking 1950 paper, \"Computing Machinery and Intelligence,\" posed fundamental questions about machine reasoning similar to human intelligence, significantly contributing to the conceptual groundwork of AI. The development of AI was not very rapid at first because of the high costs and the fact that computers were not able to store commands. This changed during the 1956 Dartmouth Summer Research Project on AI where there was an inspiring call for AI research, setting the precedent for two decades of rapid advancements in the field.[25]\n",
      "\n",
      "Since the founding of AI in the 1950s, artists and researchers have used artificial intelligence to create artistic works. By the early 1970s, Harold Cohen was creating and exhibiting generative AI works created by AARON, the computer program Cohen created to generate paintings.[26]\n",
      "\n",
      "Markov chains have long been used to model natural languages since their development by Russian mathematician Andrey Markov in the early 20th century. Markov published his first paper on the topic in 1906,[27][28][29] and analyzed the pattern of vowels and consonants in the novel Eugeny Onegin using Markov chains. Once a Markov chain is learned on a text corpus, it can then be used as a probabilistic text generator.[30][31]\n",
      "\n",
      "The field of machine learning often uses statistical models, including generative models, to model and predict data. Beginning in the late 2000s, the emergence of deep learning drove progress and research in image classification, speech recognition, natural language processing and other tasks. Neural networks in this era were typically trained as discriminative models, due to the difficulty of generative modeling.[32]\n",
      "\n",
      "In 2014, advancements such as the variational autoencoder and generative adversarial network produced the first practical deep neural networks capable of learning generative models, as opposed to discriminative ones, for complex data such as images. These deep generative models were the first to output not only class labels for images but also entire images.\n",
      "\n",
      "In 2017, the Transformer network enabled advancements in generative models compared to older Long-Short Term Memory models,[33] leading to the first generative pre-trained transformer (GPT), known as GPT-1, in 2018.[34] This was followed in 2019 by GPT-2 which demonstrated the ability to generalize unsupervised to many different tasks as a Foundation model.[35]\n",
      "\n",
      "In 2021, the release of DALL-E, a transformer-based pixel generative model, followed by Midjourney and Stable Diffusion marked the emergence of practical high-quality artificial intelligence art from natural language prompts.\n",
      "\n",
      "In March 2023, GPT-4 was released. A team from Microsoft Research argued that \"it could reasonably be viewed as an early (yet still incomplete) version of an artificial general intelligence (AGI) system\".[36] Other scholars have disputed that GPT-4 reaches this threshold, calling generative AI \"still far from reaching the benchmark of ‘general human intelligence’\" as of 2023.[37] In 2023, Meta released an AI model called ImageBind which combines data from text, images, video, thermal data, 3D data, audio, and motion which is expected to allow for more immersive generative AI content.\n",
      "You are an expert MCQ maker.Give then above text ,its is your job to create quiz of\n",
      "5 MCQ questions for a ('Generative AI',) student in simple tone.\n",
      "Make sure questions are not repeated and check all the questions to be confireming the text as well.\n",
      "make sure to format your response like RESPONSE_JSON below and use it as a guide.Ensure to make 5 MCQs\n",
      "###RESPONSE_JSON\n",
      "{\"1\": {\"mcq\": \"multiple choice question\", \"options\": {\"a\": \"choice here\", \"b\": \"choice here\", \"c\": \"choice here\", \"d\": \"choice here\"}, \"correct\": \"correct answer\"}, \"2\": {\"mcq\": \"multiple choice question\", \"options\": {\"a\": \"choice here\", \"b\": \"choice here\", \"c\": \"choice here\", \"d\": \"choice here\"}, \"correct\": \"correct answer\"}, \"3\": {\"mcq\": \"multiple choice question\", \"options\": {\"a\": \"choice here\", \"b\": \"choice here\", \"c\": \"choice here\", \"d\": \"choice here\"}, \"correct\": \"correct answer\"}}\n",
      "\n",
      "\u001b[0m\n",
      "\n",
      "\u001b[1m> Finished chain.\u001b[0m\n",
      "\n",
      "\n",
      "\u001b[1m> Entering new LLMChain chain...\u001b[0m\n",
      "Prompt after formatting:\n",
      "\u001b[32;1m\u001b[1;3m\n",
      "You are an expert english grammarian and writer. Given a Multiple Choice Quiz for ('Generative AI',) students.\n",
      "You need to evaluate the complexity of the question and give a complete analysis of the quiz. \n",
      "Only use at max 50 words for if the quiz is not at per with the cognitive and analytical abilities of the students,\n",
      "if the quiz is not at per with cognitive ana analytical abilities for the student,\n",
      "update the quiz questions which needs to be changed and change the tone such that it perfectly fits the student abilities\n",
      "\n",
      "Quiz MCQs:\n",
      "\n",
      "{\"1\": {\"mcq\": \"What event established the academic discipline of artificial intelligence?\", \"options\": {\"a\": \"The development of deep learning\", \"b\": \"The Dartmouth Summer Research Project on AI\", \"c\": \"The release of GPT-4\", \"d\": \"The invention of Markov chains\"}, \"correct\": \"b\"}, \n",
      "\"2\": {\"mcq\": \"Who created the computer program AARON to generate paintings?\", \"options\": {\"a\": \"Alan Turing\", \"b\": \"Harold Cohen\", \"c\": \"Andrey Markov\", \"d\": \"Daedalus\"}, \"correct\": \"b\"}, \n",
      "\"3\": {\"mcq\": \"What is the purpose of a generative model in machine learning?\", \"options\": {\"a\": \"To model and predict data\", \"b\": \"To create artistic works\", \"c\": \"To analyze the pattern of vowels and consonants\", \"d\": \"To generate class labels for images\"}, \"correct\": \"a\"}, \n",
      "\"4\": {\"mcq\": \"Which AI model released in 2021 is a transformer-based pixel generative model?\", \"options\": {\"a\": \"GPT-4\", \"b\": \"DALL-E\", \"c\": \"GPT-2\", \"d\": \"ImageBind\"}, \"correct\": \"b\"}, \n",
      "\"5\": {\"mcq\": \"According to Microsoft Research, what is GPT-4 considered to be?\", \"options\": {\"a\": \"An artificial general intelligence system\", \"b\": \"A discriminative model\", \"c\": \"An incomplete version of AGI\", \"d\": \"A practical high-quality AI art model\"}, \"correct\": \"c\"}}\n",
      "\n",
      "Check from an expert English Writer of the above quiz\n",
      "\n",
      "\n",
      "\n",
      "\u001b[0m\n",
      "\n",
      "\u001b[1m> Finished chain.\u001b[0m\n"
     ]
    }
   ],
   "source": [
    "#getopenai_call_back this will track each and everything (Token Detail)\n",
    "# langchain offical documentation get_openai_callback()\n",
    "\n",
    "#tracking our token\n",
    "with get_openai_callback() as cb:\n",
    "    response=generate_evaluate_chain(\n",
    "        {\n",
    "            \"text\":TEXT,\n",
    "            \"number\":NUMBER,\n",
    "            \"subject\":SUBJECT,\n",
    "            \"tone\":TONE,\n",
    "            \"response_json\":json.dumps(RESPONSE_JSON)\n",
    "        })\n",
    "    "
   ]
  },
  {
   "cell_type": "code",
   "execution_count": 65,
   "metadata": {},
   "outputs": [
    {
     "name": "stdout",
     "output_type": "stream",
     "text": [
      "Total Tokens:2047\n",
      "Prompt Tokens:1636\n",
      "Completion Token:411\n",
      "Total Cost:0.003276\n"
     ]
    }
   ],
   "source": [
    "# Once its excute we can see no of token which we used for both IP/OP we can see total cost as well in Doller\n",
    "print(f\"Total Tokens:{cb.total_tokens}\")\n",
    "print(f\"Prompt Tokens:{cb.prompt_tokens}\")\n",
    "print(f\"Completion Token:{cb.completion_tokens}\")\n",
    "print(f\"Total Cost:{cb.total_cost}\")\n",
    "#Every thing we have got here"
   ]
  },
  {
   "cell_type": "code",
   "execution_count": 66,
   "metadata": {},
   "outputs": [
    {
     "data": {
      "text/plain": [
       "{'text': '\\nThe academic discipline of artificial intelligence was established at a research workshop held at Dartmouth College in 1956 and has experienced several waves of advancement and optimism in the decades since.[20] Since its inception, researchers in the field have raised philosophical and ethical arguments about the nature of the human mind and the consequences of creating artificial beings with human-like intelligence; these issues have previously been explored by myth, fiction and philosophy since antiquity.[21] The concept of automated art dates back at least to the automata of ancient Greek civilization, where inventors such as Daedalus and Hero of Alexandria were described as having designed machines capable of writing text, generating sounds, and playing music.[22][23] The tradition of creative automatons has flourished throughout history, exemplified by Maillardet\\'s automaton created in the early 1800s.[24]\\n\\nArtificial Intelligence is an idea that has been captivating society since the mid-20th century. It began with science fiction familiarizing the world with the concept but the idea wasn\\'t fully seen in the scientific manner until Alan Turing, a polymath, was curious about the feasibility of the concept. Turing\\'s groundbreaking 1950 paper, \"Computing Machinery and Intelligence,\" posed fundamental questions about machine reasoning similar to human intelligence, significantly contributing to the conceptual groundwork of AI. The development of AI was not very rapid at first because of the high costs and the fact that computers were not able to store commands. This changed during the 1956 Dartmouth Summer Research Project on AI where there was an inspiring call for AI research, setting the precedent for two decades of rapid advancements in the field.[25]\\n\\nSince the founding of AI in the 1950s, artists and researchers have used artificial intelligence to create artistic works. By the early 1970s, Harold Cohen was creating and exhibiting generative AI works created by AARON, the computer program Cohen created to generate paintings.[26]\\n\\nMarkov chains have long been used to model natural languages since their development by Russian mathematician Andrey Markov in the early 20th century. Markov published his first paper on the topic in 1906,[27][28][29] and analyzed the pattern of vowels and consonants in the novel Eugeny Onegin using Markov chains. Once a Markov chain is learned on a text corpus, it can then be used as a probabilistic text generator.[30][31]\\n\\nThe field of machine learning often uses statistical models, including generative models, to model and predict data. Beginning in the late 2000s, the emergence of deep learning drove progress and research in image classification, speech recognition, natural language processing and other tasks. Neural networks in this era were typically trained as discriminative models, due to the difficulty of generative modeling.[32]\\n\\nIn 2014, advancements such as the variational autoencoder and generative adversarial network produced the first practical deep neural networks capable of learning generative models, as opposed to discriminative ones, for complex data such as images. These deep generative models were the first to output not only class labels for images but also entire images.\\n\\nIn 2017, the Transformer network enabled advancements in generative models compared to older Long-Short Term Memory models,[33] leading to the first generative pre-trained transformer (GPT), known as GPT-1, in 2018.[34] This was followed in 2019 by GPT-2 which demonstrated the ability to generalize unsupervised to many different tasks as a Foundation model.[35]\\n\\nIn 2021, the release of DALL-E, a transformer-based pixel generative model, followed by Midjourney and Stable Diffusion marked the emergence of practical high-quality artificial intelligence art from natural language prompts.\\n\\nIn March 2023, GPT-4 was released. A team from Microsoft Research argued that \"it could reasonably be viewed as an early (yet still incomplete) version of an artificial general intelligence (AGI) system\".[36] Other scholars have disputed that GPT-4 reaches this threshold, calling generative AI \"still far from reaching the benchmark of ‘general human intelligence’\" as of 2023.[37] In 2023, Meta released an AI model called ImageBind which combines data from text, images, video, thermal data, 3D data, audio, and motion which is expected to allow for more immersive generative AI content.',\n",
       " 'number': 5,\n",
       " 'subject': ('Generative AI',),\n",
       " 'tone': 'simple',\n",
       " 'response_json': '{\"1\": {\"mcq\": \"multiple choice question\", \"options\": {\"a\": \"choice here\", \"b\": \"choice here\", \"c\": \"choice here\", \"d\": \"choice here\"}, \"correct\": \"correct answer\"}, \"2\": {\"mcq\": \"multiple choice question\", \"options\": {\"a\": \"choice here\", \"b\": \"choice here\", \"c\": \"choice here\", \"d\": \"choice here\"}, \"correct\": \"correct answer\"}, \"3\": {\"mcq\": \"multiple choice question\", \"options\": {\"a\": \"choice here\", \"b\": \"choice here\", \"c\": \"choice here\", \"d\": \"choice here\"}, \"correct\": \"correct answer\"}}',\n",
       " 'quiz': '{\"1\": {\"mcq\": \"What event established the academic discipline of artificial intelligence?\", \"options\": {\"a\": \"The development of deep learning\", \"b\": \"The Dartmouth Summer Research Project on AI\", \"c\": \"The release of GPT-4\", \"d\": \"The invention of Markov chains\"}, \"correct\": \"b\"}, \\n\"2\": {\"mcq\": \"Who created the computer program AARON to generate paintings?\", \"options\": {\"a\": \"Alan Turing\", \"b\": \"Harold Cohen\", \"c\": \"Andrey Markov\", \"d\": \"Daedalus\"}, \"correct\": \"b\"}, \\n\"3\": {\"mcq\": \"What is the purpose of a generative model in machine learning?\", \"options\": {\"a\": \"To model and predict data\", \"b\": \"To create artistic works\", \"c\": \"To analyze the pattern of vowels and consonants\", \"d\": \"To generate class labels for images\"}, \"correct\": \"a\"}, \\n\"4\": {\"mcq\": \"Which AI model released in 2021 is a transformer-based pixel generative model?\", \"options\": {\"a\": \"GPT-4\", \"b\": \"DALL-E\", \"c\": \"GPT-2\", \"d\": \"ImageBind\"}, \"correct\": \"b\"}, \\n\"5\": {\"mcq\": \"According to Microsoft Research, what is GPT-4 considered to be?\", \"options\": {\"a\": \"An artificial general intelligence system\", \"b\": \"A discriminative model\", \"c\": \"An incomplete version of AGI\", \"d\": \"A practical high-quality AI art model\"}, \"correct\": \"c\"}}',\n",
       " 'review': 'The quiz is suitable for students with a good understanding of artificial intelligence and machine learning concepts. The questions are clear and focused on specific topics. The language used is appropriate and does not require any changes. The complexity of the questions is in line with the cognitive and analytical abilities of the students.'}"
      ]
     },
     "execution_count": 66,
     "metadata": {},
     "output_type": "execute_result"
    }
   ],
   "source": [
    "response"
   ]
  },
  {
   "cell_type": "code",
   "execution_count": 67,
   "metadata": {},
   "outputs": [],
   "source": [
    "# get quiz\n",
    "quiz=response.get(\"quiz\")"
   ]
  },
  {
   "cell_type": "code",
   "execution_count": 68,
   "metadata": {},
   "outputs": [],
   "source": [
    "quiz=json.loads(quiz) # we have got same format that we passed as json response"
   ]
  },
  {
   "cell_type": "code",
   "execution_count": 69,
   "metadata": {},
   "outputs": [],
   "source": [
    "# convert our quiz and ans to DataFrame\n",
    "quiz_table_data=[]\n",
    "\n",
    "for key,value in quiz.items():\n",
    "    # print(key) this is will take how quize like 1,2,3,4 each has quizes that we processed\n",
    "    mcq=value['mcq']\n",
    "    options=\" | \".join(\n",
    "        [\n",
    "            f\"{option}:{option_value}\"\n",
    "            for option,option_value in value[\"options\"].items() # we are storing the option and option(mcq)\n",
    "        ]    \n",
    "    )\n",
    "    correct=value[\"correct\"]\n",
    "    quiz_table_data.append({\"MCQ\":mcq,\"Choices\":options,\"Correct\":correct})\n",
    "\n"
   ]
  },
  {
   "cell_type": "code",
   "execution_count": 70,
   "metadata": {},
   "outputs": [
    {
     "data": {
      "text/html": [
       "<div>\n",
       "<style scoped>\n",
       "    .dataframe tbody tr th:only-of-type {\n",
       "        vertical-align: middle;\n",
       "    }\n",
       "\n",
       "    .dataframe tbody tr th {\n",
       "        vertical-align: top;\n",
       "    }\n",
       "\n",
       "    .dataframe thead th {\n",
       "        text-align: right;\n",
       "    }\n",
       "</style>\n",
       "<table border=\"1\" class=\"dataframe\">\n",
       "  <thead>\n",
       "    <tr style=\"text-align: right;\">\n",
       "      <th></th>\n",
       "      <th>MCQ</th>\n",
       "      <th>Choices</th>\n",
       "      <th>Correct</th>\n",
       "    </tr>\n",
       "  </thead>\n",
       "  <tbody>\n",
       "    <tr>\n",
       "      <th>0</th>\n",
       "      <td>What event established the academic discipline...</td>\n",
       "      <td>a:The development of deep learning | b:The Dar...</td>\n",
       "      <td>b</td>\n",
       "    </tr>\n",
       "    <tr>\n",
       "      <th>1</th>\n",
       "      <td>Who created the computer program AARON to gene...</td>\n",
       "      <td>a:Alan Turing | b:Harold Cohen | c:Andrey Mark...</td>\n",
       "      <td>b</td>\n",
       "    </tr>\n",
       "    <tr>\n",
       "      <th>2</th>\n",
       "      <td>What is the purpose of a generative model in m...</td>\n",
       "      <td>a:To model and predict data | b:To create arti...</td>\n",
       "      <td>a</td>\n",
       "    </tr>\n",
       "    <tr>\n",
       "      <th>3</th>\n",
       "      <td>Which AI model released in 2021 is a transform...</td>\n",
       "      <td>a:GPT-4 | b:DALL-E | c:GPT-2 | d:ImageBind</td>\n",
       "      <td>b</td>\n",
       "    </tr>\n",
       "    <tr>\n",
       "      <th>4</th>\n",
       "      <td>According to Microsoft Research, what is GPT-4...</td>\n",
       "      <td>a:An artificial general intelligence system | ...</td>\n",
       "      <td>c</td>\n",
       "    </tr>\n",
       "  </tbody>\n",
       "</table>\n",
       "</div>"
      ],
      "text/plain": [
       "                                                 MCQ  \\\n",
       "0  What event established the academic discipline...   \n",
       "1  Who created the computer program AARON to gene...   \n",
       "2  What is the purpose of a generative model in m...   \n",
       "3  Which AI model released in 2021 is a transform...   \n",
       "4  According to Microsoft Research, what is GPT-4...   \n",
       "\n",
       "                                             Choices Correct  \n",
       "0  a:The development of deep learning | b:The Dar...       b  \n",
       "1  a:Alan Turing | b:Harold Cohen | c:Andrey Mark...       b  \n",
       "2  a:To model and predict data | b:To create arti...       a  \n",
       "3         a:GPT-4 | b:DALL-E | c:GPT-2 | d:ImageBind       b  \n",
       "4  a:An artificial general intelligence system | ...       c  "
      ]
     },
     "execution_count": 70,
     "metadata": {},
     "output_type": "execute_result"
    }
   ],
   "source": [
    "pd.DataFrame(quiz_table_data) # we have got the Data Frame of our quize"
   ]
  },
  {
   "cell_type": "code",
   "execution_count": 61,
   "metadata": {},
   "outputs": [],
   "source": [
    "# Convert DF to CSV\n",
    "\n",
    "quiz=pd.DataFrame(quiz_table_data)\n",
    "quiz.to_csv(\"GenerativeAI_Quizs.csv\",index=False) #local folder where the file is created\n",
    "\n",
    "#Done our jupyter implementation"
   ]
  },
  {
   "cell_type": "code",
   "execution_count": null,
   "metadata": {},
   "outputs": [],
   "source": []
  }
 ],
 "metadata": {
  "kernelspec": {
   "display_name": "Python 3",
   "language": "python",
   "name": "python3"
  },
  "language_info": {
   "codemirror_mode": {
    "name": "ipython",
    "version": 3
   },
   "file_extension": ".py",
   "mimetype": "text/x-python",
   "name": "python",
   "nbconvert_exporter": "python",
   "pygments_lexer": "ipython3",
   "version": "3.8.18"
  }
 },
 "nbformat": 4,
 "nbformat_minor": 2
}
